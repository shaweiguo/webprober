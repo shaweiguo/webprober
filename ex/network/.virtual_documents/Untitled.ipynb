from sknetwork.data import karate_club
from sknetwork.clustering import Louvain


adjacency = karate_club()
algorithm = Louvain()
algorithm.fit(adjacency)


from IPython.display import SVG
import numpy as np
from sknetwork.data import karate_club, painters, movie_actor, load_netset
from sknetwork.visualization import svg_graph, svg_bigraph


graph = karate_club(metadata=True)
adjacency = graph.adjacency
position = graph.position
labels = graph.labels


image = svg_graph(adjacency, position, labels=labels)
SVG(image)


graph = load_netset('openflights')
adjacency = graph.adjacency
position = graph.position


weights = adjacency.dot(np.ones(adjacency.shape[0]))
image = svg_graph(adjacency, position, scores=np.log(weights), node_order=np.argsort(weights),
                  node_size_min=2, node_size_max=10, height=400, width=800,
                  display_node_weight=True, display_edges=False)
SVG(image)


from pymemcache.client import base


client = base.Client(('localhost', 11211))
client.set('hello', 'world')



