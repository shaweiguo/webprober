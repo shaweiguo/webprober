import numpy as np
import pandas as pd
import dask.dataframe as dd
import dask.array as da
import dask.bag as db


df = pd.DataFrame(np.random.rand(60).reshape(10, 6))
df


df.to_csv("my_data_frame.csv", index=False)


df = pd.read_csv("my_data_frame.csv")
df


ddf = dd.read_csv("my_data_frame.csv")
ddf


ddf.compute()


ddf = dd.from_pandas(df, npartitions=3)
ddf


ddf.divisions


ddf.compute()


narr = np.random.randint(0, 10, 100).reshape(10, 10)
narr


darr = da.from_array(narr, chunks=(5, 5))
darr


darr.chunks


darr.compute()


df['1'].mean()


m = ddf['1'].mean()


m.compute()


mm = np.mean(darr)
mm.compute()


mm.dask


mm.visualize()


import dask

@dask.delayed
def doubled(x):
    return 2 * x


doubled(darr)


d = doubled(darr)
d.compute()


from dask.distributed import Client
client = Client()


import numpy as np
from sklearn.model_selection import train_test_split

x = 50 * np.random.random((30, 1))
y = 0.3 * x + 1.0 + np.random.normal(size=x.shape)
x_train, x_test, y_train, y_test = train_test_split(x, y, test_size=0.2)


from sklearn.linear_model import LinearRegression
model = LinearRegression()
model.fit(x_train, y_train)


print(model.intercept_)
print(model.coef_)


y_new = model.predict(x_test)


import matplotlib.pyplot as plt
plt.figure()
plt.scatter(x, y)
plt.scatter(x_test, y_new, c='red')


model.score(x_train, y_train)


model.score(x_test, y_test)


from dask_ml.model_selection import train_test_split
x_train, x_test, y_train, y_test = train_test_split(x, y, test_size=0.2, shuffle=False)


from dask_ml.linear_model import LinearRegression
model = LinearRegression()


import joblib
from joblib import parallel_backend


with parallel_backend('dask'):
    model.fit(x_train, y_train)
    y_new = model.predict(x_test)


plt.figure()
plt.scatter(x_train, y_train)
plt.scatter(x_test, y_new, c='red')


import torch
torch.__version__


torch.cuda.is_available()






