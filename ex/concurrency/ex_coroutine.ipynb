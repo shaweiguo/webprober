{
 "cells": [
  {
   "cell_type": "code",
   "execution_count": 1,
   "id": "e0bff01f-9233-47ce-a1e5-46909c57b8c0",
   "metadata": {},
   "outputs": [],
   "source": [
    "import asyncio\n",
    "from asyncio import Future"
   ]
  },
  {
   "cell_type": "code",
   "execution_count": 2,
   "id": "82b91b37-761c-4d75-8ff0-7bf4ca731ba1",
   "metadata": {},
   "outputs": [],
   "source": [
    "async def hello_world_message() -> str:\n",
    "    await asyncio.sleep(1)\n",
    "    return 'hello world!'\n",
    "async def main() -> None:\n",
    "    message = await hello_world_message()\n",
    "    print(message)"
   ]
  },
  {
   "cell_type": "code",
   "execution_count": 3,
   "id": "edb0f374-9c90-4ee0-b680-4a52e48a521a",
   "metadata": {},
   "outputs": [
    {
     "name": "stdout",
     "output_type": "stream",
     "text": [
      "Is f1 done? False\n"
     ]
    }
   ],
   "source": [
    "f1 = Future()\n",
    "print(f'Is f1 done? {f1.done()}')"
   ]
  },
  {
   "cell_type": "code",
   "execution_count": 4,
   "id": "16c2dc4d-389e-4507-b306-d91c985d25a7",
   "metadata": {},
   "outputs": [
    {
     "name": "stdout",
     "output_type": "stream",
     "text": [
      "Is f1 done? True\n",
      "What is the result of f1? 28\n"
     ]
    }
   ],
   "source": [
    "f1.set_result(28)\n",
    "print(f'Is f1 done? {f1.done()}')\n",
    "print(f'What is the result of f1? {f1.result()}')"
   ]
  },
  {
   "cell_type": "code",
   "execution_count": null,
   "id": "3e66caaf-9abf-4c2e-a1ab-3ec604bb04f6",
   "metadata": {},
   "outputs": [],
   "source": [
    "def make_request() -> Future:\n",
    "    future = Future()\n",
    "    asyncio.create_task(set_future_value(future))\n",
    "    return future\n",
    "\n",
    "async def set_future_value(future) -> None:\n",
    "    await asyncio.sleep(1)\n",
    "    future.set_result(28)\n",
    "\n"
   ]
  }
 ],
 "metadata": {
  "kernelspec": {
   "display_name": "Python 3 (ipykernel)",
   "language": "python",
   "name": "python3"
  },
  "language_info": {
   "codemirror_mode": {
    "name": "ipython",
    "version": 3
   },
   "file_extension": ".py",
   "mimetype": "text/x-python",
   "name": "python",
   "nbconvert_exporter": "python",
   "pygments_lexer": "ipython3",
   "version": "3.10.13"
  }
 },
 "nbformat": 4,
 "nbformat_minor": 5
}
