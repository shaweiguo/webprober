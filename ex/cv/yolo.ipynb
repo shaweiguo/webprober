{
 "cells": [
  {
   "cell_type": "code",
   "execution_count": 1,
   "id": "19456e0f-d5a0-49ea-a0a3-1b7dac0b3363",
   "metadata": {},
   "outputs": [],
   "source": [
    "from ultralytics import YOLO"
   ]
  },
  {
   "cell_type": "code",
   "execution_count": 2,
   "id": "a9a413d1-f03b-47d1-8c26-ed62911474be",
   "metadata": {},
   "outputs": [
    {
     "name": "stdout",
     "output_type": "stream",
     "text": [
      "\n",
      "                   from  n    params  module                                       arguments                     \n",
      "  0                  -1  1       464  ultralytics.nn.modules.conv.Conv             [3, 16, 3, 2]                 \n",
      "  1                  -1  1      4672  ultralytics.nn.modules.conv.Conv             [16, 32, 3, 2]                \n",
      "  2                  -1  1      7360  ultralytics.nn.modules.block.C2f             [32, 32, 1, True]             \n",
      "  3                  -1  1     18560  ultralytics.nn.modules.conv.Conv             [32, 64, 3, 2]                \n",
      "  4                  -1  2     49664  ultralytics.nn.modules.block.C2f             [64, 64, 2, True]             \n",
      "  5                  -1  1     73984  ultralytics.nn.modules.conv.Conv             [64, 128, 3, 2]               \n",
      "  6                  -1  2    197632  ultralytics.nn.modules.block.C2f             [128, 128, 2, True]           \n",
      "  7                  -1  1    295424  ultralytics.nn.modules.conv.Conv             [128, 256, 3, 2]              \n",
      "  8                  -1  1    460288  ultralytics.nn.modules.block.C2f             [256, 256, 1, True]           \n",
      "  9                  -1  1    164608  ultralytics.nn.modules.block.SPPF            [256, 256, 5]                 \n",
      " 10                  -1  1         0  torch.nn.modules.upsampling.Upsample         [None, 2, 'nearest']          \n",
      " 11             [-1, 6]  1         0  ultralytics.nn.modules.conv.Concat           [1]                           \n",
      " 12                  -1  1    148224  ultralytics.nn.modules.block.C2f             [384, 128, 1]                 \n",
      " 13                  -1  1         0  torch.nn.modules.upsampling.Upsample         [None, 2, 'nearest']          \n",
      " 14             [-1, 4]  1         0  ultralytics.nn.modules.conv.Concat           [1]                           \n",
      " 15                  -1  1     37248  ultralytics.nn.modules.block.C2f             [192, 64, 1]                  \n",
      " 16                  -1  1     36992  ultralytics.nn.modules.conv.Conv             [64, 64, 3, 2]                \n",
      " 17            [-1, 12]  1         0  ultralytics.nn.modules.conv.Concat           [1]                           \n",
      " 18                  -1  1    123648  ultralytics.nn.modules.block.C2f             [192, 128, 1]                 \n",
      " 19                  -1  1    147712  ultralytics.nn.modules.conv.Conv             [128, 128, 3, 2]              \n",
      " 20             [-1, 9]  1         0  ultralytics.nn.modules.conv.Concat           [1]                           \n",
      " 21                  -1  1    493056  ultralytics.nn.modules.block.C2f             [384, 256, 1]                 \n",
      " 22        [15, 18, 21]  1    897664  ultralytics.nn.modules.head.Detect           [80, [64, 128, 256]]          \n",
      "YOLOv8n summary: 225 layers, 3157200 parameters, 3157184 gradients, 8.9 GFLOPs\n",
      "\n"
     ]
    }
   ],
   "source": [
    "# Create a new YOLO model from scratch\n",
    "model = YOLO('yolov8n.yaml')"
   ]
  },
  {
   "cell_type": "code",
   "execution_count": 3,
   "id": "364b1d67-de65-44b7-99d4-f445125d2123",
   "metadata": {},
   "outputs": [],
   "source": [
    "# Load a pretrained YOLO model (recommended for training)\n",
    "model = YOLO('yolov8n.pt')"
   ]
  },
  {
   "cell_type": "code",
   "execution_count": 4,
   "id": "f4057aee-99ca-4700-98f3-7efa069cd769",
   "metadata": {},
   "outputs": [
    {
     "name": "stdout",
     "output_type": "stream",
     "text": [
      "Ultralytics YOLOv8.0.227 🚀 Python-3.10.13 torch-2.1.1+cu121 CUDA:0 (NVIDIA GeForce GTX 980 Ti, 6073MiB)\n",
      "\u001b[34m\u001b[1mengine/trainer: \u001b[0mtask=detect, mode=train, model=yolov8n.pt, data=coco128.yaml, epochs=3, patience=50, batch=16, imgsz=640, save=True, save_period=-1, cache=False, device=None, workers=8, project=None, name=train2, exist_ok=False, pretrained=True, optimizer=auto, verbose=True, seed=0, deterministic=True, single_cls=False, rect=False, cos_lr=False, close_mosaic=10, resume=False, amp=True, fraction=1.0, profile=False, freeze=None, overlap_mask=True, mask_ratio=4, dropout=0.0, val=True, split=val, save_json=False, save_hybrid=False, conf=None, iou=0.7, max_det=300, half=False, dnn=False, plots=True, source=None, vid_stride=1, stream_buffer=False, visualize=False, augment=False, agnostic_nms=False, classes=None, retina_masks=False, show=False, save_frames=False, save_txt=False, save_conf=False, save_crop=False, show_labels=True, show_conf=True, show_boxes=True, line_width=None, format=torchscript, keras=False, optimize=False, int8=False, dynamic=False, simplify=False, opset=None, workspace=4, nms=False, lr0=0.01, lrf=0.01, momentum=0.937, weight_decay=0.0005, warmup_epochs=3.0, warmup_momentum=0.8, warmup_bias_lr=0.1, box=7.5, cls=0.5, dfl=1.5, pose=12.0, kobj=1.0, label_smoothing=0.0, nbs=64, hsv_h=0.015, hsv_s=0.7, hsv_v=0.4, degrees=0.0, translate=0.1, scale=0.5, shear=0.0, perspective=0.0, flipud=0.0, fliplr=0.5, mosaic=1.0, mixup=0.0, copy_paste=0.0, cfg=None, tracker=botsort.yaml, save_dir=runs/detect/train2\n",
      "\n",
      "Dataset 'coco128.yaml' images not found ⚠️, missing path '/home/sha/work/ml/lung/datasets/coco128/images/train2017'\n",
      "Downloading https://ultralytics.com/assets/coco128.zip to '/home/sha/work/ml/lung/datasets/coco128.zip'...\n"
     ]
    },
    {
     "name": "stderr",
     "output_type": "stream",
     "text": [
      "100%|████████████████████████████████████████████████████████████████████████████| 6.66M/6.66M [00:01<00:00, 6.59MB/s]\n",
      "Unzipping /home/sha/work/ml/lung/datasets/coco128.zip to /home/sha/work/ml/lung/datasets/coco128...: 100%|██████████| "
     ]
    },
    {
     "name": "stdout",
     "output_type": "stream",
     "text": [
      "Dataset download success ✅ (5.0s), saved to \u001b[1m/home/sha/work/ml/lung/datasets\u001b[0m\n",
      "\n"
     ]
    },
    {
     "name": "stderr",
     "output_type": "stream",
     "text": [
      "\n",
      "2023-12-18 12:09:03.812436: E external/local_xla/xla/stream_executor/cuda/cuda_dnn.cc:9261] Unable to register cuDNN factory: Attempting to register factory for plugin cuDNN when one has already been registered\n",
      "2023-12-18 12:09:03.812548: E external/local_xla/xla/stream_executor/cuda/cuda_fft.cc:607] Unable to register cuFFT factory: Attempting to register factory for plugin cuFFT when one has already been registered\n",
      "2023-12-18 12:09:03.932314: E external/local_xla/xla/stream_executor/cuda/cuda_blas.cc:1515] Unable to register cuBLAS factory: Attempting to register factory for plugin cuBLAS when one has already been registered\n"
     ]
    },
    {
     "name": "stdout",
     "output_type": "stream",
     "text": [
      "\n",
      "                   from  n    params  module                                       arguments                     \n",
      "  0                  -1  1       464  ultralytics.nn.modules.conv.Conv             [3, 16, 3, 2]                 \n",
      "  1                  -1  1      4672  ultralytics.nn.modules.conv.Conv             [16, 32, 3, 2]                \n",
      "  2                  -1  1      7360  ultralytics.nn.modules.block.C2f             [32, 32, 1, True]             \n",
      "  3                  -1  1     18560  ultralytics.nn.modules.conv.Conv             [32, 64, 3, 2]                \n",
      "  4                  -1  2     49664  ultralytics.nn.modules.block.C2f             [64, 64, 2, True]             \n",
      "  5                  -1  1     73984  ultralytics.nn.modules.conv.Conv             [64, 128, 3, 2]               \n",
      "  6                  -1  2    197632  ultralytics.nn.modules.block.C2f             [128, 128, 2, True]           \n",
      "  7                  -1  1    295424  ultralytics.nn.modules.conv.Conv             [128, 256, 3, 2]              \n",
      "  8                  -1  1    460288  ultralytics.nn.modules.block.C2f             [256, 256, 1, True]           \n",
      "  9                  -1  1    164608  ultralytics.nn.modules.block.SPPF            [256, 256, 5]                 \n",
      " 10                  -1  1         0  torch.nn.modules.upsampling.Upsample         [None, 2, 'nearest']          \n",
      " 11             [-1, 6]  1         0  ultralytics.nn.modules.conv.Concat           [1]                           \n",
      " 12                  -1  1    148224  ultralytics.nn.modules.block.C2f             [384, 128, 1]                 \n",
      " 13                  -1  1         0  torch.nn.modules.upsampling.Upsample         [None, 2, 'nearest']          \n",
      " 14             [-1, 4]  1         0  ultralytics.nn.modules.conv.Concat           [1]                           \n",
      " 15                  -1  1     37248  ultralytics.nn.modules.block.C2f             [192, 64, 1]                  \n",
      " 16                  -1  1     36992  ultralytics.nn.modules.conv.Conv             [64, 64, 3, 2]                \n",
      " 17            [-1, 12]  1         0  ultralytics.nn.modules.conv.Concat           [1]                           \n",
      " 18                  -1  1    123648  ultralytics.nn.modules.block.C2f             [192, 128, 1]                 \n",
      " 19                  -1  1    147712  ultralytics.nn.modules.conv.Conv             [128, 128, 3, 2]              \n",
      " 20             [-1, 9]  1         0  ultralytics.nn.modules.conv.Concat           [1]                           \n",
      " 21                  -1  1    493056  ultralytics.nn.modules.block.C2f             [384, 256, 1]                 \n",
      " 22        [15, 18, 21]  1    897664  ultralytics.nn.modules.head.Detect           [80, [64, 128, 256]]          \n",
      "Model summary: 225 layers, 3157200 parameters, 3157184 gradients, 8.9 GFLOPs\n",
      "\n",
      "Transferred 355/355 items from pretrained weights\n",
      "\u001b[34m\u001b[1mTensorBoard: \u001b[0mStart with 'tensorboard --logdir runs/detect/train2', view at http://localhost:6006/\n",
      "Freezing layer 'model.22.dfl.conv.weight'\n",
      "\u001b[34m\u001b[1mAMP: \u001b[0mrunning Automatic Mixed Precision (AMP) checks with YOLOv8n...\n",
      "\u001b[34m\u001b[1mAMP: \u001b[0mchecks passed ✅\n"
     ]
    },
    {
     "name": "stderr",
     "output_type": "stream",
     "text": [
      "\u001b[34m\u001b[1mtrain: \u001b[0mScanning /home/sha/work/ml/lung/datasets/coco128/labels/train2017... 126 images, 2 backgrounds, 0 corrupt: 100%\u001b[0m"
     ]
    },
    {
     "name": "stdout",
     "output_type": "stream",
     "text": [
      "\u001b[34m\u001b[1mtrain: \u001b[0mNew cache created: /home/sha/work/ml/lung/datasets/coco128/labels/train2017.cache\n"
     ]
    },
    {
     "name": "stderr",
     "output_type": "stream",
     "text": [
      "\n",
      "\u001b[34m\u001b[1mval: \u001b[0mScanning /home/sha/work/ml/lung/datasets/coco128/labels/train2017.cache... 126 images, 2 backgrounds, 0 corrupt: \u001b[0m\n"
     ]
    },
    {
     "name": "stdout",
     "output_type": "stream",
     "text": [
      "Plotting labels to runs/detect/train2/labels.jpg... \n",
      "\u001b[34m\u001b[1moptimizer:\u001b[0m 'optimizer=auto' found, ignoring 'lr0=0.01' and 'momentum=0.937' and determining best 'optimizer', 'lr0' and 'momentum' automatically... \n",
      "\u001b[34m\u001b[1moptimizer:\u001b[0m AdamW(lr=0.000119, momentum=0.9) with parameter groups 57 weight(decay=0.0), 64 weight(decay=0.0005), 63 bias(decay=0.0)\n",
      "Image sizes 640 train, 640 val\n",
      "Using 8 dataloader workers\n",
      "Logging results to \u001b[1mruns/detect/train2\u001b[0m\n",
      "Starting training for 3 epochs...\n",
      "\n",
      "      Epoch    GPU_mem   box_loss   cls_loss   dfl_loss  Instances       Size\n"
     ]
    },
    {
     "name": "stderr",
     "output_type": "stream",
     "text": [
      "        1/3      2.61G      1.226      1.615      1.274        178        640: 100%|██████████| 8/8 [00:02<00:00,  3.0\n",
      "                 Class     Images  Instances      Box(P          R      mAP50  mAP50-95): 100%|██████████| 4/4 [00:01<"
     ]
    },
    {
     "name": "stdout",
     "output_type": "stream",
     "text": [
      "                   all        128        929      0.682      0.493      0.589      0.437\n"
     ]
    },
    {
     "name": "stderr",
     "output_type": "stream",
     "text": [
      "\n"
     ]
    },
    {
     "name": "stdout",
     "output_type": "stream",
     "text": [
      "\n",
      "      Epoch    GPU_mem   box_loss   cls_loss   dfl_loss  Instances       Size\n"
     ]
    },
    {
     "name": "stderr",
     "output_type": "stream",
     "text": [
      "        2/3      2.56G      1.224      1.509      1.267        231        640: 100%|██████████| 8/8 [00:02<00:00,  3.6\n",
      "                 Class     Images  Instances      Box(P          R      mAP50  mAP50-95): 100%|██████████| 4/4 [00:00<"
     ]
    },
    {
     "name": "stdout",
     "output_type": "stream",
     "text": [
      "                   all        128        929      0.671      0.547      0.614      0.455\n"
     ]
    },
    {
     "name": "stderr",
     "output_type": "stream",
     "text": [
      "\n"
     ]
    },
    {
     "name": "stdout",
     "output_type": "stream",
     "text": [
      "\n",
      "      Epoch    GPU_mem   box_loss   cls_loss   dfl_loss  Instances       Size\n"
     ]
    },
    {
     "name": "stderr",
     "output_type": "stream",
     "text": [
      "        3/3      2.65G      1.206      1.441      1.221        178        640: 100%|██████████| 8/8 [00:02<00:00,  3.6\n",
      "                 Class     Images  Instances      Box(P          R      mAP50  mAP50-95): 100%|██████████| 4/4 [00:00<"
     ]
    },
    {
     "name": "stdout",
     "output_type": "stream",
     "text": [
      "                   all        128        929      0.682      0.552      0.619      0.461\n"
     ]
    },
    {
     "name": "stderr",
     "output_type": "stream",
     "text": [
      "\n"
     ]
    },
    {
     "name": "stdout",
     "output_type": "stream",
     "text": [
      "\n",
      "3 epochs completed in 0.004 hours.\n",
      "Optimizer stripped from runs/detect/train2/weights/last.pt, 6.5MB\n",
      "Optimizer stripped from runs/detect/train2/weights/best.pt, 6.5MB\n",
      "\n",
      "Validating runs/detect/train2/weights/best.pt...\n",
      "Ultralytics YOLOv8.0.227 🚀 Python-3.10.13 torch-2.1.1+cu121 CUDA:0 (NVIDIA GeForce GTX 980 Ti, 6073MiB)\n",
      "Model summary (fused): 168 layers, 3151904 parameters, 0 gradients, 8.7 GFLOPs\n"
     ]
    },
    {
     "name": "stderr",
     "output_type": "stream",
     "text": [
      "                 Class     Images  Instances      Box(P          R      mAP50  mAP50-95): 100%|██████████| 4/4 [00:01<\n"
     ]
    },
    {
     "name": "stdout",
     "output_type": "stream",
     "text": [
      "                   all        128        929      0.676      0.555      0.619       0.46\n",
      "                person        128        254      0.803      0.673      0.768      0.549\n",
      "               bicycle        128          6      0.595      0.333      0.318      0.266\n",
      "                   car        128         46        0.7      0.217      0.278       0.18\n",
      "            motorcycle        128          5      0.826      0.953      0.962      0.753\n",
      "              airplane        128          6      0.718      0.667       0.83      0.616\n",
      "                   bus        128          7      0.587      0.714      0.696      0.616\n",
      "                 train        128          3      0.542      0.667       0.72       0.66\n",
      "                 truck        128         12          1      0.383      0.494      0.306\n",
      "                  boat        128          6      0.348      0.167      0.374      0.232\n",
      "         traffic light        128         14      0.741      0.206      0.207      0.134\n",
      "             stop sign        128          2          1      0.967      0.995      0.703\n",
      "                 bench        128          9      0.784      0.409      0.624      0.389\n",
      "                  bird        128         16      0.919      0.714      0.897       0.52\n",
      "                   cat        128          4      0.854          1      0.995      0.822\n",
      "                   dog        128          9       0.67      0.778      0.825      0.599\n",
      "                 horse        128          2      0.498          1      0.995      0.547\n",
      "              elephant        128         17      0.922      0.824      0.861      0.664\n",
      "                  bear        128          1      0.653          1      0.995      0.995\n",
      "                 zebra        128          4      0.859          1      0.995      0.965\n",
      "               giraffe        128          9        0.8      0.889      0.949      0.695\n",
      "              backpack        128          6      0.709      0.419       0.43      0.276\n",
      "              umbrella        128         18      0.829       0.54      0.668      0.448\n",
      "               handbag        128         19      0.447     0.0471      0.154     0.0843\n",
      "                   tie        128          7      0.583      0.571       0.62       0.46\n",
      "              suitcase        128          4      0.613          1      0.845      0.551\n",
      "               frisbee        128          5      0.628        0.8      0.732      0.633\n",
      "                  skis        128          1      0.455          1      0.497       0.21\n",
      "             snowboard        128          7      0.843      0.714      0.762      0.478\n",
      "           sports ball        128          6      0.737      0.473       0.53      0.305\n",
      "                  kite        128         10      0.694        0.4      0.534      0.181\n",
      "          baseball bat        128          4      0.525        0.5      0.525      0.228\n",
      "        baseball glove        128          7       0.71      0.429      0.429      0.294\n",
      "            skateboard        128          5       0.79        0.6        0.6       0.44\n",
      "         tennis racket        128          7       0.54      0.286      0.453      0.313\n",
      "                bottle        128         18      0.464      0.333      0.393       0.23\n",
      "            wine glass        128         16      0.614      0.497      0.582       0.35\n",
      "                   cup        128         36      0.675      0.278      0.423      0.286\n",
      "                  fork        128          6      0.611      0.167      0.305      0.228\n",
      "                 knife        128         16      0.708      0.625      0.641       0.37\n",
      "                 spoon        128         22      0.737      0.182       0.37      0.187\n",
      "                  bowl        128         28      0.644      0.571      0.604      0.503\n",
      "                banana        128          1          0          0      0.199     0.0538\n",
      "              sandwich        128          2      0.629          1      0.663      0.663\n",
      "                orange        128          4          1      0.364      0.995      0.666\n",
      "              broccoli        128         11      0.621      0.182       0.25      0.225\n",
      "                carrot        128         24      0.686      0.364      0.638      0.391\n",
      "               hot dog        128          2       0.57          1      0.828      0.796\n",
      "                 pizza        128          5      0.691          1      0.962       0.84\n",
      "                 donut        128         14      0.645          1      0.909       0.83\n",
      "                  cake        128          4      0.749          1      0.995      0.855\n",
      "                 chair        128         35      0.499      0.543      0.448      0.262\n",
      "                 couch        128          6      0.624        0.5      0.665      0.527\n",
      "          potted plant        128         14      0.566      0.559       0.66      0.453\n",
      "                   bed        128          3          1      0.612      0.913      0.677\n",
      "          dining table        128         13      0.563      0.615      0.525      0.414\n",
      "                toilet        128          2          1      0.855      0.995      0.895\n",
      "                    tv        128          2      0.506        0.5      0.662      0.629\n",
      "                laptop        128          3          1          0      0.591      0.461\n",
      "                 mouse        128          2          1          0          0          0\n",
      "                remote        128          8      0.872        0.5      0.569      0.487\n",
      "            cell phone        128          8          0          0     0.0474     0.0239\n",
      "             microwave        128          3      0.499          1       0.83      0.733\n",
      "                  oven        128          5      0.372        0.4      0.352      0.278\n",
      "                  sink        128          6      0.359      0.167      0.213      0.156\n",
      "          refrigerator        128          5      0.552        0.4      0.625      0.502\n",
      "                  book        128         29      0.585      0.103      0.269      0.143\n",
      "                 clock        128          9      0.788      0.778      0.881      0.737\n",
      "                  vase        128          2      0.396          1      0.828      0.745\n",
      "              scissors        128          1          1          0      0.199     0.0424\n",
      "            teddy bear        128         21          1      0.378        0.6      0.408\n",
      "            toothbrush        128          5      0.865        0.6      0.746      0.521\n",
      "Speed: 0.2ms preprocess, 3.8ms inference, 0.0ms loss, 1.5ms postprocess per image\n",
      "Results saved to \u001b[1mruns/detect/train2\u001b[0m\n"
     ]
    }
   ],
   "source": [
    "# Train the model using the 'coco128.yaml' dataset for 3 epochs\n",
    "results = model.train(data='coco128.yaml', epochs=3)"
   ]
  },
  {
   "cell_type": "code",
   "execution_count": 5,
   "id": "b1839de1-00c2-4043-8c77-f4d747333190",
   "metadata": {},
   "outputs": [
    {
     "name": "stdout",
     "output_type": "stream",
     "text": [
      "Ultralytics YOLOv8.0.227 🚀 Python-3.10.13 torch-2.1.1+cu121 CUDA:0 (NVIDIA GeForce GTX 980 Ti, 6073MiB)\n",
      "Model summary (fused): 168 layers, 3151904 parameters, 0 gradients, 8.7 GFLOPs\n"
     ]
    },
    {
     "name": "stderr",
     "output_type": "stream",
     "text": [
      "\u001b[34m\u001b[1mval: \u001b[0mScanning /home/sha/work/ml/lung/datasets/coco128/labels/train2017.cache... 126 images, 2 backgrounds, 0 corrupt: \u001b[0m\n",
      "                 Class     Images  Instances      Box(P          R      mAP50  mAP50-95): 100%|██████████| 8/8 [00:02<\n"
     ]
    },
    {
     "name": "stdout",
     "output_type": "stream",
     "text": [
      "                   all        128        929      0.675      0.537       0.61      0.457\n",
      "                person        128        254       0.82      0.664      0.769      0.552\n",
      "               bicycle        128          6      0.607      0.333      0.315      0.263\n",
      "                   car        128         46      0.709      0.217      0.278      0.177\n",
      "            motorcycle        128          5       0.83       0.98      0.928       0.75\n",
      "              airplane        128          6      0.721      0.667      0.817      0.607\n",
      "                   bus        128          7      0.531      0.714      0.696      0.616\n",
      "                 train        128          3      0.546      0.667      0.712      0.653\n",
      "                 truck        128         12      0.987      0.417      0.487      0.273\n",
      "                  boat        128          6      0.357      0.167       0.36      0.203\n",
      "         traffic light        128         14      0.713      0.183      0.207      0.133\n",
      "             stop sign        128          2          1      0.965      0.995      0.703\n",
      "                 bench        128          9       0.78      0.401      0.624      0.388\n",
      "                  bird        128         16      0.919      0.707      0.898      0.526\n",
      "                   cat        128          4      0.858          1      0.995      0.822\n",
      "                   dog        128          9      0.673      0.778      0.825      0.605\n",
      "                 horse        128          2       0.51          1      0.995      0.547\n",
      "              elephant        128         17      0.935      0.824      0.861      0.667\n",
      "                  bear        128          1      0.658          1      0.995      0.995\n",
      "                 zebra        128          4      0.861          1      0.995      0.965\n",
      "               giraffe        128          9      0.794      0.889      0.943      0.756\n",
      "              backpack        128          6      0.588      0.333      0.391      0.263\n",
      "              umbrella        128         18      0.828      0.536      0.666      0.446\n",
      "               handbag        128         19      0.415     0.0437      0.153     0.0836\n",
      "                   tie        128          7      0.591      0.571       0.62       0.46\n",
      "              suitcase        128          4      0.619          1      0.845      0.551\n",
      "               frisbee        128          5      0.636        0.8      0.732      0.639\n",
      "                  skis        128          1      0.469          1      0.497      0.213\n",
      "             snowboard        128          7      0.859      0.714      0.764       0.48\n",
      "           sports ball        128          6       0.73       0.46      0.502       0.29\n",
      "                  kite        128         10      0.814      0.443      0.558      0.185\n",
      "          baseball bat        128          4      0.455       0.25      0.381      0.177\n",
      "        baseball glove        128          7      0.661      0.429      0.429      0.316\n",
      "            skateboard        128          5      0.886        0.6        0.6       0.44\n",
      "         tennis racket        128          7      0.719      0.375      0.482      0.342\n",
      "                bottle        128         18      0.473      0.333      0.396      0.245\n",
      "            wine glass        128         16      0.553      0.387       0.54      0.342\n",
      "                   cup        128         36      0.605      0.278      0.428       0.29\n",
      "                  fork        128          6      0.597      0.167      0.272      0.216\n",
      "                 knife        128         16      0.707      0.625       0.63      0.363\n",
      "                 spoon        128         22      0.743      0.182       0.35      0.187\n",
      "                  bowl        128         28      0.722      0.607       0.63      0.523\n",
      "                banana        128          1          0          0      0.166     0.0591\n",
      "              sandwich        128          2      0.315        0.5      0.398      0.398\n",
      "                orange        128          4          1      0.353      0.995      0.666\n",
      "              broccoli        128         11      0.675      0.182      0.268       0.23\n",
      "                carrot        128         24      0.644      0.377      0.643      0.406\n",
      "               hot dog        128          2      0.556          1      0.828      0.828\n",
      "                 pizza        128          5      0.742          1      0.995      0.866\n",
      "                 donut        128         14      0.647          1      0.909      0.826\n",
      "                  cake        128          4      0.676          1      0.945        0.8\n",
      "                 chair        128         35      0.476      0.514      0.427      0.254\n",
      "                 couch        128          6      0.629        0.5      0.731      0.583\n",
      "          potted plant        128         14      0.553      0.531      0.662      0.457\n",
      "                   bed        128          3          1      0.607      0.913      0.748\n",
      "          dining table        128         13      0.517      0.538      0.498      0.391\n",
      "                toilet        128          2          1       0.85      0.995      0.895\n",
      "                    tv        128          2      0.513        0.5      0.662      0.629\n",
      "                laptop        128          3          1          0       0.55      0.442\n",
      "                 mouse        128          2          1          0          0          0\n",
      "                remote        128          8      0.878        0.5      0.589      0.497\n",
      "            cell phone        128          8          0          0     0.0491     0.0253\n",
      "             microwave        128          3       0.51      0.667      0.806      0.702\n",
      "                  oven        128          5      0.347        0.4      0.352      0.278\n",
      "                  sink        128          6      0.381      0.167      0.169      0.125\n",
      "          refrigerator        128          5      0.669        0.4      0.628      0.495\n",
      "                  book        128         29      0.501      0.103      0.274      0.156\n",
      "                 clock        128          9      0.795      0.778      0.885      0.726\n",
      "                  vase        128          2      0.414          1      0.828      0.745\n",
      "              scissors        128          1          1          0      0.199     0.0427\n",
      "            teddy bear        128         21          1      0.375       0.62      0.403\n",
      "            toothbrush        128          5          1      0.594      0.786      0.529\n",
      "Speed: 0.2ms preprocess, 7.9ms inference, 0.0ms loss, 1.6ms postprocess per image\n",
      "Results saved to \u001b[1mruns/detect/train22\u001b[0m\n"
     ]
    }
   ],
   "source": [
    "# Evaluate the model's performance on the validation set\n",
    "results = model.val()"
   ]
  },
  {
   "cell_type": "code",
   "execution_count": 6,
   "id": "1ad16ac0-186a-4c15-8fae-41c64e23fd88",
   "metadata": {},
   "outputs": [
    {
     "name": "stdout",
     "output_type": "stream",
     "text": [
      "\n",
      "Downloading https://ultralytics.com/images/bus.jpg to 'bus.jpg'...\n"
     ]
    },
    {
     "name": "stderr",
     "output_type": "stream",
     "text": [
      "100%|██████████████████████████████████████████████████████████████████████████████| 476k/476k [00:00<00:00, 1.31MB/s]"
     ]
    },
    {
     "name": "stdout",
     "output_type": "stream",
     "text": [
      "image 1/1 /home/sha/work/webprober/ex/cv/bus.jpg: 640x480 4 persons, 1 bus, 1 stop sign, 9.8ms\n",
      "Speed: 1.8ms preprocess, 9.8ms inference, 1.4ms postprocess per image at shape (1, 3, 640, 480)\n"
     ]
    },
    {
     "name": "stderr",
     "output_type": "stream",
     "text": [
      "\n"
     ]
    }
   ],
   "source": [
    "# Perform object detection on an image using the model\n",
    "results = model('https://ultralytics.com/images/bus.jpg')"
   ]
  },
  {
   "cell_type": "code",
   "execution_count": 7,
   "id": "41593472-837a-48ac-aab5-8c317af39b96",
   "metadata": {},
   "outputs": [
    {
     "name": "stdout",
     "output_type": "stream",
     "text": [
      "Ultralytics YOLOv8.0.227 🚀 Python-3.10.13 torch-2.1.1+cu121 CPU (Intel Core(TM) i7-6700K 4.00GHz)\n",
      "\n",
      "\u001b[34m\u001b[1mPyTorch:\u001b[0m starting from 'runs/detect/train2/weights/best.pt' with input shape (1, 3, 640, 640) BCHW and output shape(s) (1, 84, 8400) (6.2 MB)\n",
      "\n",
      "\u001b[34m\u001b[1mONNX:\u001b[0m starting export with onnx 1.15.0 opset 17...\n",
      "\u001b[34m\u001b[1mONNX:\u001b[0m export success ✅ 0.6s, saved as 'runs/detect/train2/weights/best.onnx' (12.2 MB)\n",
      "\n",
      "Export complete (2.0s)\n",
      "Results saved to \u001b[1m/home/sha/work/webprober/ex/cv/runs/detect/train2/weights\u001b[0m\n",
      "Predict:         yolo predict task=detect model=runs/detect/train2/weights/best.onnx imgsz=640  \n",
      "Validate:        yolo val task=detect model=runs/detect/train2/weights/best.onnx imgsz=640 data=/home/sha/work/_p310/lib/python3.10/site-packages/ultralytics/cfg/datasets/coco128.yaml  \n",
      "Visualize:       https://netron.app\n"
     ]
    }
   ],
   "source": [
    "# Export the model to ONNX format\n",
    "success = model.export(format='onnx')"
   ]
  },
  {
   "cell_type": "code",
   "execution_count": 8,
   "id": "10e8c9fa-be6c-4a67-b58b-461d1c75196c",
   "metadata": {},
   "outputs": [],
   "source": [
    "from ultralytics import settings"
   ]
  },
  {
   "cell_type": "code",
   "execution_count": 9,
   "id": "9c45483d-433b-4088-8b94-18dc7bf37f18",
   "metadata": {},
   "outputs": [
    {
     "name": "stdout",
     "output_type": "stream",
     "text": [
      "{'settings_version': '0.0.4', 'datasets_dir': '/home/sha/work/ml/lung/datasets', 'weights_dir': 'weights', 'runs_dir': 'runs', 'uuid': '99435e2d68765159dbb1074ba3701549afe972d8373bf90428165d7aade4fc65', 'sync': True, 'api_key': '', 'clearml': True, 'comet': True, 'dvc': True, 'hub': True, 'mlflow': True, 'neptune': True, 'raytune': True, 'tensorboard': True, 'wandb': True}\n"
     ]
    }
   ],
   "source": [
    "print(settings)"
   ]
  },
  {
   "cell_type": "code",
   "execution_count": null,
   "id": "a0207649-0c0a-4848-90d0-e766aecfd17b",
   "metadata": {},
   "outputs": [],
   "source": []
  }
 ],
 "metadata": {
  "kernelspec": {
   "display_name": "Python 3 (ipykernel)",
   "language": "python",
   "name": "python3"
  },
  "language_info": {
   "codemirror_mode": {
    "name": "ipython",
    "version": 3
   },
   "file_extension": ".py",
   "mimetype": "text/x-python",
   "name": "python",
   "nbconvert_exporter": "python",
   "pygments_lexer": "ipython3",
   "version": "3.10.13"
  }
 },
 "nbformat": 4,
 "nbformat_minor": 5
}
