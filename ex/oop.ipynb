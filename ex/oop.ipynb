{
 "cells": [
  {
   "cell_type": "code",
   "execution_count": 1,
   "id": "4215cf51-3873-4944-aedd-91ac08268b85",
   "metadata": {},
   "outputs": [],
   "source": [
    "class Employee:\n",
    "    def calculateTotalSalary(self):\n",
    "        return (self.salary + self.allowances)\n",
    "    def calculateTotalSalary(self, bonus):\n",
    "        return (self.salary + self.allowances) + bonus"
   ]
  },
  {
   "cell_type": "code",
   "execution_count": 3,
   "id": "358d9f45-559b-4670-872f-2323d589cafc",
   "metadata": {},
   "outputs": [
    {
     "name": "stdout",
     "output_type": "stream",
     "text": [
      "Total salary is 22000\n"
     ]
    }
   ],
   "source": [
    "emp1 = Employee()\n",
    "emp1.salary = 15000\n",
    "emp1.allowances = 5000\n",
    "print(\"Total salary is\", emp1.calculateTotalSalary(2000))"
   ]
  },
  {
   "cell_type": "code",
   "execution_count": 4,
   "id": "9e43e6b7-16f4-492d-be5b-491898f64d1c",
   "metadata": {},
   "outputs": [
    {
     "ename": "TypeError",
     "evalue": "Employee.calculateTotalSalary() missing 1 required positional argument: 'bonus'",
     "output_type": "error",
     "traceback": [
      "\u001b[0;31m---------------------------------------------------------------------------\u001b[0m",
      "\u001b[0;31mTypeError\u001b[0m                                 Traceback (most recent call last)",
      "Cell \u001b[0;32mIn[4], line 5\u001b[0m\n\u001b[1;32m      3\u001b[0m emp2\u001b[38;5;241m.\u001b[39mallowances \u001b[38;5;241m=\u001b[39m \u001b[38;5;241m4000\u001b[39m\n\u001b[1;32m      4\u001b[0m \u001b[38;5;66;03m# This method call will generate an error\u001b[39;00m\n\u001b[0;32m----> 5\u001b[0m \u001b[38;5;28mprint\u001b[39m(\u001b[38;5;124m\"\u001b[39m\u001b[38;5;124mTotal salary is \u001b[39m\u001b[38;5;124m\"\u001b[39m, \u001b[43memp2\u001b[49m\u001b[38;5;241;43m.\u001b[39;49m\u001b[43mcalculateTotalSalary\u001b[49m\u001b[43m(\u001b[49m\u001b[43m)\u001b[49m)\n",
      "\u001b[0;31mTypeError\u001b[0m: Employee.calculateTotalSalary() missing 1 required positional argument: 'bonus'"
     ]
    }
   ],
   "source": [
    "emp2 = Employee()\n",
    "emp2.salary = 18000\n",
    "emp2.allowances = 4000\n",
    "# This method call will generate an error\n",
    "print(\"Total salary is \", emp2.calculateTotalSalary())"
   ]
  },
  {
   "cell_type": "code",
   "execution_count": 5,
   "id": "7a009241-d8f5-4e96-acea-c0063b9c6533",
   "metadata": {},
   "outputs": [],
   "source": [
    "class Employee:\n",
    "    def calculateTotalSalary(self, bonus=None):\n",
    "        if bonus is None:\n",
    "            return (self.salary + self.allowances)\n",
    "        else:\n",
    "            return (self.salary + self.allowances) + bonus"
   ]
  },
  {
   "cell_type": "code",
   "execution_count": 6,
   "id": "83107cbb-a5b7-4f40-9d2a-9e6bcdc586e0",
   "metadata": {},
   "outputs": [
    {
     "name": "stdout",
     "output_type": "stream",
     "text": [
      "Total salary is  24000\n",
      "Total salary is  20000\n"
     ]
    }
   ],
   "source": [
    "emp1 = Employee()\n",
    "emp1.salary = 15000\n",
    "emp1.allowances = 5000\n",
    "emp2 = Employee()\n",
    "emp2.salary = 18000\n",
    "emp2.allowances = 4000\n",
    "print(\"Total salary is \", emp2.calculateTotalSalary(2000))\n",
    "print(\"Total salary is \", emp1.calculateTotalSalary())"
   ]
  },
  {
   "cell_type": "code",
   "execution_count": 11,
   "id": "23dcfe01-24a6-4079-b242-dbb504e45e2c",
   "metadata": {},
   "outputs": [],
   "source": [
    "class Employee:\n",
    "    salary = 0\n",
    "    def __add__(self, other):\n",
    "        return self.salary + other.salary"
   ]
  },
  {
   "cell_type": "code",
   "execution_count": 12,
   "id": "86702155-7b51-44bb-a2f9-ef40840315e4",
   "metadata": {},
   "outputs": [],
   "source": [
    "emp1 = Employee()\n",
    "emp1.salary = 15000\n",
    "emp2 = Employee()\n",
    "emp2.salary = 22000"
   ]
  },
  {
   "cell_type": "code",
   "execution_count": 13,
   "id": "50e7cc0a-cabb-4f7a-bf14-9236ed81be8d",
   "metadata": {},
   "outputs": [
    {
     "data": {
      "text/plain": [
       "15000"
      ]
     },
     "execution_count": 13,
     "metadata": {},
     "output_type": "execute_result"
    }
   ],
   "source": [
    "emp1.salary"
   ]
  },
  {
   "cell_type": "code",
   "execution_count": 14,
   "id": "c4b9efdf-dbe3-4ffa-bee8-ab9bcd3da823",
   "metadata": {},
   "outputs": [
    {
     "data": {
      "text/plain": [
       "22000"
      ]
     },
     "execution_count": 14,
     "metadata": {},
     "output_type": "execute_result"
    }
   ],
   "source": [
    "emp2.salary"
   ]
  },
  {
   "cell_type": "markdown",
   "id": "1bb50fd4-eb70-48e2-a2b6-409c2e3aadf5",
   "metadata": {},
   "source": [
    "emp1 + emp2"
   ]
  },
  {
   "cell_type": "code",
   "execution_count": 15,
   "id": "1cf12f68-4de9-47e3-8b43-0d5d9f4f98ca",
   "metadata": {},
   "outputs": [
    {
     "data": {
      "text/plain": [
       "37000"
      ]
     },
     "execution_count": 15,
     "metadata": {},
     "output_type": "execute_result"
    }
   ],
   "source": [
    "emp1 + emp2"
   ]
  },
  {
   "cell_type": "code",
   "execution_count": 16,
   "id": "b323f643-acd1-4422-9597-ed83b7b4fc9c",
   "metadata": {},
   "outputs": [],
   "source": [
    "from abc import ABC, abstractmethod"
   ]
  },
  {
   "cell_type": "code",
   "execution_count": 17,
   "id": "b704d79c-e06f-4685-a54b-b66aa3a1c3d4",
   "metadata": {},
   "outputs": [],
   "source": [
    "class Employee(ABC):\n",
    "    @abstractmethod\n",
    "    def get_total_salary(self):\n",
    "        pass"
   ]
  },
  {
   "cell_type": "code",
   "execution_count": 18,
   "id": "dcf52fb0-0684-4535-82bc-1ae48ae1e8be",
   "metadata": {},
   "outputs": [],
   "source": [
    "class FulltimeEmployee(Employee):\n",
    "    def __init__(self, first, last, salary, allowances):\n",
    "        self.__first = first\n",
    "        self._last = last\n",
    "        self.__salary = salary\n",
    "        self.__allowances = allowances\n",
    "    def get_total_salary(self):\n",
    "        return self.__salary + self.__allowances"
   ]
  },
  {
   "cell_type": "code",
   "execution_count": 19,
   "id": "c79d663c-7bc0-4286-9f9a-ea510366f8b8",
   "metadata": {},
   "outputs": [
    {
     "data": {
      "text/plain": [
       "21000"
      ]
     },
     "execution_count": 19,
     "metadata": {},
     "output_type": "execute_result"
    }
   ],
   "source": [
    "ft = FulltimeEmployee('Maria', 'Rena', 15000, 6000)\n",
    "ft.get_total_salary()"
   ]
  },
  {
   "cell_type": "code",
   "execution_count": 20,
   "id": "cadf1e48-63e0-4ee8-b5fe-cd20f4569b37",
   "metadata": {},
   "outputs": [],
   "source": [
    "import tkinter as tk"
   ]
  },
  {
   "cell_type": "code",
   "execution_count": 21,
   "id": "55a36b29-b608-4202-a1e5-c78b4d56483d",
   "metadata": {},
   "outputs": [],
   "source": []
  },
  {
   "cell_type": "code",
   "execution_count": 37,
   "id": "d379d879-7ab9-4734-a6e1-34065e78203e",
   "metadata": {},
   "outputs": [],
   "source": [
    "win_frame = tk.Tk()\n",
    "win_frame.title('Python Basic Window Frame')\n",
    "win_frame.geometry('800x500')\n",
    "win_frame.configure(bg = 'light blue')\n",
    "# win_label = tk.Label(win_frame, text = 'Hello python programmer')\n",
    "# win_label.pack()\n",
    "# info_label = tk.Label(win_frame, text = 'Use the Grid method to \\nplace the label in a static position')\n",
    "# info_label.grid(column=0, row=0)\n",
    "# Create the 1st label and place it in the middle of the parent window\n",
    "winLabel1 = tk.Label(win_frame, fg = 'green', font = \"Arial 24\", text = 'A green label of Arial 24, that does not expand')\n",
    "winLabel1.pack(expand = 'N')\n",
    "\n",
    "# The second label that expands vertically when the frame is resized\n",
    "winLabel2 = tk.Label(win_frame, bg = 'red', fg = 'white', text = 'A label in red background that expands only vertically')\n",
    "winLabel2.pack(expand = 1, fill = tk.Y)\n",
    "\n",
    "winLabel3 = tk.Label(win_frame, bg = 'blue', fg = 'yellow', text = 'A label in blue background that expands only horizontally')\n",
    "winLabel3.pack(expand = 1, fill = tk.X)\n",
    "\n",
    "# The fourth label 'anchored' (i.e., align always to the right/east)\n",
    "winLabel4 = tk.Label(win_frame, anchor = 'e', bg = 'green', text = 'A right, i.e., east, aligned label')\n",
    "winLabel4.pack(expand = 1, fill = tk.BOTH)\n",
    "win_frame.mainloop()"
   ]
  },
  {
   "cell_type": "code",
   "execution_count": 38,
   "id": "6e80b81a-13f2-4760-91cc-8f1bbecae4d8",
   "metadata": {},
   "outputs": [],
   "source": [
    "from PIL import Image, ImageTk"
   ]
  },
  {
   "cell_type": "code",
   "execution_count": 41,
   "id": "c28938ee-0e41-4659-b92b-c6b160904693",
   "metadata": {},
   "outputs": [],
   "source": [
    "# Import the relevant library\n",
    "import tkinter as tk\n",
    "# Define the method that controls the mouse click events\n",
    "def changeText(a):\n",
    "    winLabel.config(text = a)\n",
    "# The basic frame with the tk.Tk() constructor and provide a title\n",
    "winFrame = tk.Tk()\n",
    "winFrame.geometry('800x500')\n",
    "winFrame.title(\"A simple button and label application\")\n",
    "# Create the label\n",
    "winLabel = tk.Label(winFrame, text = \"...\")\n",
    "winLabel.grid(column = 1, row = 0)\n",
    "# Create the button widget and bind it with the associated events\n",
    "winButton=tk.Button(winFrame, text=\"Left, right, or double left Click \"\\\n",
    "\"\\nto change the text of the label\", font = \"Arial 16\", fg = \"red\")\n",
    "winButton.grid(column = 0, row = 0)\n",
    "winButton.bind(\"<Button-1>\", lambda event, \\\n",
    "a = \"You left clicked on the button\": changeText(a))\n",
    "winButton.bind(\"<Button-3>\", lambda event, \\\n",
    "a = \"You right clicked on the button\": changeText(a))\n",
    "winButton.bind(\"<Double-Button-1>\", lambda event, \\\n",
    "a = \"You double left clicked on the button\": changeText(a))\n",
    "winButton.bind(\"<Enter>\", lambda event, \\\n",
    "a = \"You are hovering above the button\": changeText(a))\n",
    "winButton.bind(\"<Leave>\", lambda event, \\\n",
    "a = \"You left the button widget\": changeText(a))\n",
    "winFrame.mainloop()"
   ]
  },
  {
   "cell_type": "code",
   "execution_count": 42,
   "id": "e02739a4-eeb0-415e-9f70-183a9fa354ee",
   "metadata": {},
   "outputs": [],
   "source": [
    "# Import the necessary library\n",
    "import tkinter as tk\n",
    "from tkinter import ttk\n",
    "# Create the frame using the tk object\n",
    "winFrame = tk.Tk()\n",
    "winFrame.title(\"Python GUI with text\")\n",
    "# Create a StringVar object to accept user input from the keyboard\n",
    "textVar = tk.StringVar()\n",
    "# Set the initial text for the StringVar\n",
    "textVar.set('Enter text here')\n",
    "# Create an entry widget and associate it to the StringVar object\n",
    "winText = ttk.Entry(winFrame, textvariable = textVar, width = 40)\n",
    "winText.grid(column = 1, row = 0)\n",
    "winFrame.mainloop()"
   ]
  },
  {
   "cell_type": "code",
   "execution_count": 45,
   "id": "259ef68c-cd07-4cc8-a06d-a24b75088b45",
   "metadata": {},
   "outputs": [
    {
     "name": "stderr",
     "output_type": "stream",
     "text": [
      "Exception in Tkinter callback\n",
      "Traceback (most recent call last):\n",
      "  File \"/home/sha/anaconda3/envs/p310/lib/python3.10/tkinter/__init__.py\", line 1921, in __call__\n",
      "    return self.func(*args)\n",
      "  File \"/tmp/ipykernel_1898336/1580794121.py\", line 81, in <lambda>\n",
      "    a = 's': showHideEntryContent(a))\n",
      "  File \"/tmp/ipykernel_1898336/1580794121.py\", line 21, in showHideEntryContent\n",
      "    if (tempText!= ''):\n",
      "NameError: name 'tempText' is not defined\n"
     ]
    }
   ],
   "source": [
    "# Import the necessary library\n",
    "import tkinter as tk\n",
    "from tkinter import ttk\n",
    "# The tempText variable will store the contents of the entry widget\n",
    "global tempText\n",
    "# The textVar object will associate the entry widget with the input\n",
    "global textVar\n",
    "# Define the winText widget\n",
    "global winText\n",
    "# ===================================================================\n",
    "# Declare the methods that will run the application\n",
    "def showHideLabelEntry(a):\n",
    "    if (a == 's'):\n",
    "        winText.grid()\n",
    "    elif (a == 'h'):\n",
    "        winText.grid_remove()\n",
    "def showHideEntryContent(a):\n",
    "    global tempText\n",
    "    global textVar\n",
    "    if (a == 's'):\n",
    "        if (tempText!= ''):\n",
    "            textVar.set(tempText)\n",
    "    if (a == 'h'):\n",
    "        tempText = textVar.get()\n",
    "        textVar.set('')\n",
    "def enableLockDisableEntryWidget(a):\n",
    "    if (a == 'e'):\n",
    "        winText.config(state = 'normal')\n",
    "    elif (a == 'l'):\n",
    "        winText.config(state = 'disabled')\n",
    "def boldContentsOfEntryWidget(a):\n",
    "    if (a == 'b'):\n",
    "        winText.config(font = 'Arial 14 bold')\n",
    "    elif (a == 'n'):\n",
    "        winText.config(font = 'Arial 14')\n",
    "def passwordEntryWidget(a):\n",
    "    if (a == 'p'):\n",
    "        winText.config(show = '*')\n",
    "    elif (a == 'n'):\n",
    "        winText.config(show = '')\n",
    "# ===================================================================\n",
    "# Declare the method that will create the application GUI\n",
    "def createGUI():\n",
    "    createLabelEntry()\n",
    "    showHideButton()\n",
    "    showHideContent()\n",
    "    enableDisable()\n",
    "    boldOnOff()\n",
    "    passwordOnOff()\n",
    "# Create a label and an entry widget to prompt for input and\n",
    "# associate it with a StringVar object\n",
    "def createLabelEntry():\n",
    "    global textVar\n",
    "    global winText\n",
    "    winLabel = tk.Label(winFrame, text = 'Enter text:', bg = 'yellow',\n",
    "    font = 'Arial 14 bold', relief = 'ridge', fg = 'red', bd = 8)\n",
    "    winLabel.grid(column = 0, row = 0)\n",
    "    # A StringVar object to accept user input from the keyboard\n",
    "    textVar = tk.StringVar()\n",
    "    winText = ttk.Entry(winFrame, textvariable = textVar, width = 20)\n",
    "    winText.grid(column = 1, row = 0)\n",
    "# Create two button widgets to show/hide the label and entry widgets\n",
    "def showHideButton():\n",
    "    winButtonShow = tk.Button(winFrame, font='Arial 14 bold', text = 'Show the\\nentry widget', fg='red',\\\n",
    "                              borderwidth=8, height=3, width=20)\n",
    "    winButtonShow.grid(column = 0, row = 1)\n",
    "    winButtonShow.bind('<Button-1>',lambda event,\n",
    "    a = 's': showHideLabelEntry(a))    \n",
    "    winButtonHide = tk.Button(winFrame, font = 'Arial 14 bold',\\\n",
    "                              text = 'Hide the\\nentry widget',\\\n",
    "                              fg = 'red', borderwidth = 8, height = 3, width = 20)\n",
    "    winButtonHide.grid(column = 1, row = 1)\n",
    "    winButtonHide.bind('<Button-1>', lambda event, a = 'h': showHideLabelEntry(a))\n",
    "# Two button widgets to show/hide the contents of the entry widget\n",
    "def showHideContent():\n",
    "    winButtonContentShow = tk.Button(winFrame, font = 'Arial 14 bold',\\\n",
    "                                     text = 'Show the contents\\nof the entry widget',\\\n",
    "                                     fg = 'blue', borderwidth = 8, height = 3, width = 20)\n",
    "    winButtonContentShow.grid(column = 0, row = 2)\n",
    "    winButtonContentShow.bind('<Button-1>', lambda event,\\\n",
    "                                                        a = 's': showHideEntryContent(a))\n",
    "    winButtonContentHide = tk.Button (winFrame,\\\n",
    "                                      text = 'Hide the contents\\nof the entry widget',\\\n",
    "                                      font = 'Arial 14 bold', fg = 'blue', borderwidth = 8,\\\n",
    "                                      height = 3, width = 20)\n",
    "    winButtonContentHide.grid (column = 1, row = 2)\n",
    "    winButtonContentHide.bind ('<Button-1>', lambda event,\\\n",
    "                                                         a = 'h': showHideEntryContent(a))\n",
    "# Button widgets to enable/disable & lock/unlock the entry widget\n",
    "def enableDisable():\n",
    "    winButtonEnableEntryWidget = tk.Button(winFrame,\\\n",
    "                                           text = 'Enable the\\nentry widget', font = 'Arial 14 bold',\\\n",
    "                                           fg = 'green', borderwidth = 8, height = 3, width = 20)\n",
    "    winButtonEnableEntryWidget.grid(column = 0, row = 3)\n",
    "    winButtonEnableEntryWidget.bind('<Button-1>', lambda event,\\\n",
    "                                                              a = 'e': enableLockDisableEntryWidget(a))\n",
    "    winButtonDisableEntryWidget = tk.Button(winFrame,\\\n",
    "                                            text = 'Lock the\\nentry widget', font = 'Arial 14 bold',\\\n",
    "                                            fg = 'green', borderwidth = 8, height = 3, width = 20)\n",
    "    winButtonDisableEntryWidget.grid(column = 1, row = 3)\n",
    "    winButtonDisableEntryWidget.bind('<Button-1>', lambda event,\\\n",
    "                                                               a = 'l': enableLockDisableEntryWidget(a))\n",
    "# Create two button widgets to switch the \"bold\" property\n",
    "# of the entry widget content on or off\n",
    "def boldOnOff():\n",
    "    winButtonBoldEntryWidget = tk.Button (winFrame,\\\n",
    "                                          text = 'Bold contents of\\nthe entry widget',\\\n",
    "                                          font = 'Arial 14 bold',\\\n",
    "                                          fg = 'brown', borderwidth = 8, height = 3, width = 20)\n",
    "    winButtonBoldEntryWidget.grid (column = 0, row = 4)\n",
    "    winButtonBoldEntryWidget.bind ('<Button-1>', lambda event,\\\n",
    "                                                             a = 'b': boldContentsOfEntryWidget(a))\n",
    "    winButtonNoBoldEntryWidget = tk.Button (winFrame,\\\n",
    "                                            text = 'No bold contents of \\nthe entry widget',\\\n",
    "                                            font = 'Arial 14 bold', fg = 'brown', borderwidth = 8,\\\n",
    "                                            height = 3, width = 20)\n",
    "    winButtonNoBoldEntryWidget.grid (column = 1, row = 4)\n",
    "    winButtonNoBoldEntryWidget.bind ('<Button-1>', lambda event,\\\n",
    "                                                               a = 'n': boldContentsOfEntryWidget(a))\n",
    "# Button widgets to convert the entry widget text to a password\n",
    "def passwordOnOff():\n",
    "    winButtonPasswordEntryWidget = tk.Button(winFrame,\\\n",
    "                                             text ='Show entry widget \\ncontent as password', borderwidth=8,\n",
    "    font = 'Arial 14 bold', fg = 'grey', height = 3, width = 20)\n",
    "    winButtonPasswordEntryWidget.grid(column = 0, row = 5)\n",
    "    winButtonPasswordEntryWidget.bind('<Button-1>', lambda event,\\\n",
    "                                                                a = 'p': passwordEntryWidget(a))\n",
    "    winButtonNormalEntryWidget = tk.Button(winFrame,\\\n",
    "                                           font = 'Arial 14 bold',\\\n",
    "                                           text = 'Show entry widget \\ncontent as normal text',\\\n",
    "                                           fg = 'grey', borderwidth = 8, height = 3, width = 20)\n",
    "    winButtonNormalEntryWidget.grid(column = 1, row = 5)\n",
    "    winButtonNormalEntryWidget.bind('<Button-1>', lambda event,\\\n",
    "                                                              a = 'n': passwordEntryWidget(a))\n",
    "# ===================================================================\n",
    "# Create the frame using the tk object and run the application\n",
    "winFrame = tk.Tk()\n",
    "winFrame.title(\"Wrap up the basic widgets\")\n",
    "createGUI()\n",
    "winFrame.mainloop()"
   ]
  },
  {
   "cell_type": "code",
   "execution_count": null,
   "id": "1bb3dd97-0d93-44ff-b842-b9686229bbd8",
   "metadata": {
    "editable": true,
    "slideshow": {
     "slide_type": ""
    },
    "tags": []
   },
   "outputs": [],
   "source": []
  }
 ],
 "metadata": {
  "kernelspec": {
   "display_name": "Python 3 (ipykernel)",
   "language": "python",
   "name": "python3"
  },
  "language_info": {
   "codemirror_mode": {
    "name": "ipython",
    "version": 3
   },
   "file_extension": ".py",
   "mimetype": "text/x-python",
   "name": "python",
   "nbconvert_exporter": "python",
   "pygments_lexer": "ipython3",
   "version": "3.10.11"
  }
 },
 "nbformat": 4,
 "nbformat_minor": 5
}
