import asyncio
from asyncio import Future


async def hello_world_message() -> str:
    await asyncio.sleep(1)
    return 'hello world!'
async def main() -> None:
    message = await hello_world_message()
    print(message)


f1 = Future()
print(f'Is f1 done? {f1.done()}')


f1.set_result(28)
print(f'Is f1 done? {f1.done()}')
print(f'What is the result of f1? {f1.result()}')


def make_request() -> Future:
    future = Future()
    asyncio.create_task(set_future_value(future))
    return future

async def set_future_value(future) -> None:
    await asyncio.sleep(1)
    future.set_result(28)


