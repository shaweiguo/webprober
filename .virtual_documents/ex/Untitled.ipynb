class Employee:
    def calculateTotalSalary(self):
        return (self.salary + self.allowances)
    def calculateTotalSalary(self, bonus):
        return (self.salary + self.allowances) + bonus


emp1 = Employee()
emp1.salary = 15000
emp1.allowances = 5000
print("Total salary is", emp1.calculateTotalSalary(2000))


emp2 = Employee()
emp2.salary = 18000
emp2.allowances = 4000
# This method call will generate an error
print("Total salary is ", emp2.calculateTotalSalary())


class Employee:
    def calculateTotalSalary(self, bonus=None):
        if bonus is None:
            return (self.salary + self.allowances)
        else:
            return (self.salary + self.allowances) + bonus


emp1 = Employee()
emp1.salary = 15000
emp1.allowances = 5000
emp2 = Employee()
emp2.salary = 18000
emp2.allowances = 4000
print("Total salary is ", emp2.calculateTotalSalary(2000))
print("Total salary is ", emp1.calculateTotalSalary())


class Employee:
    salary = 0
    def __add__(self, other):
        return self.salary + other.salary


emp1 = Employee()
emp1.salary = 15000
emp2 = Employee()
emp2.salary = 22000


emp1.salary


emp2.salary





emp1 + emp2


from abc import ABC, abstractmethod


class Employee(ABC):
    @abstractmethod
    def get_total_salary(self):
        pass


class FulltimeEmployee(Employee):
    def __init__(self, first, last, salary, allowances):
        self.__first = first
        self._last = last
        self.__salary = salary
        self.__allowances = allowances
    def get_total_salary(self):
        return self.__salary + self.__allowances


ft = FulltimeEmployee('Maria', 'Rena', 15000, 6000)
ft.get_total_salary()


import tkinter as tk





win_frame = tk.Tk()
win_frame.title('Python Basic Window Frame')
win_frame.geometry('800x500')
win_frame.configure(bg = 'light blue')
# win_label = tk.Label(win_frame, text = 'Hello python programmer')
# win_label.pack()
# info_label = tk.Label(win_frame, text = 'Use the Grid method to \nplace the label in a static position')
# info_label.grid(column=0, row=0)
# Create the 1st label and place it in the middle of the parent window
winLabel1 = tk.Label(win_frame, fg = 'green', font = "Arial 24", text = 'A green label of Arial 24, that does not expand')
winLabel1.pack(expand = 'N')

# The second label that expands vertically when the frame is resized
winLabel2 = tk.Label(win_frame, bg = 'red', fg = 'white', text = 'A label in red background that expands only vertically')
winLabel2.pack(expand = 1, fill = tk.Y)

winLabel3 = tk.Label(win_frame, bg = 'blue', fg = 'yellow', text = 'A label in blue background that expands only horizontally')
winLabel3.pack(expand = 1, fill = tk.X)

# The fourth label 'anchored' (i.e., align always to the right/east)
winLabel4 = tk.Label(win_frame, anchor = 'e', bg = 'green', text = 'A right, i.e., east, aligned label')
winLabel4.pack(expand = 1, fill = tk.BOTH)
win_frame.mainloop()


from PIL import Image, ImageTk


# Import the relevant library
import tkinter as tk
# Define the method that controls the mouse click events
def changeText(a):
    winLabel.config(text = a)
# The basic frame with the tk.Tk() constructor and provide a title
winFrame = tk.Tk()
winFrame.geometry('800x500')
winFrame.title("A simple button and label application")
# Create the label
winLabel = tk.Label(winFrame, text = "...")
winLabel.grid(column = 1, row = 0)
# Create the button widget and bind it with the associated events
winButton=tk.Button(winFrame, text="Left, right, or double left Click "\
"\nto change the text of the label", font = "Arial 16", fg = "red")
winButton.grid(column = 0, row = 0)
winButton.bind("<Button-1>", lambda event, \
a = "You left clicked on the button": changeText(a))
winButton.bind("<Button-3>", lambda event, \
a = "You right clicked on the button": changeText(a))
winButton.bind("<Double-Button-1>", lambda event, \
a = "You double left clicked on the button": changeText(a))
winButton.bind("<Enter>", lambda event, \
a = "You are hovering above the button": changeText(a))
winButton.bind("<Leave>", lambda event, \
a = "You left the button widget": changeText(a))
winFrame.mainloop()


# Import the necessary library
import tkinter as tk
from tkinter import ttk
# Create the frame using the tk object
winFrame = tk.Tk()
winFrame.title("Python GUI with text")
# Create a StringVar object to accept user input from the keyboard
textVar = tk.StringVar()
# Set the initial text for the StringVar
textVar.set('Enter text here')
# Create an entry widget and associate it to the StringVar object
winText = ttk.Entry(winFrame, textvariable = textVar, width = 40)
winText.grid(column = 1, row = 0)
winFrame.mainloop()


# Import the necessary library
import tkinter as tk
from tkinter import ttk
# The tempText variable will store the contents of the entry widget
global tempText
# The textVar object will associate the entry widget with the input
global textVar
# Define the winText widget
global winText
# ===================================================================
# Declare the methods that will run the application
def showHideLabelEntry(a):
    if (a == 's'):
        winText.grid()
    elif (a == 'h'):
        winText.grid_remove()
def showHideEntryContent(a):
    global tempText
    global textVar
    if (a == 's'):
        if (tempText!= ''):
            textVar.set(tempText)
    if (a == 'h'):
        tempText = textVar.get()
        textVar.set('')
def enableLockDisableEntryWidget(a):
    if (a == 'e'):
        winText.config(state = 'normal')
    elif (a == 'l'):
        winText.config(state = 'disabled')
def boldContentsOfEntryWidget(a):
    if (a == 'b'):
        winText.config(font = 'Arial 14 bold')
    elif (a == 'n'):
        winText.config(font = 'Arial 14')
def passwordEntryWidget(a):
    if (a == 'p'):
        winText.config(show = '*')
    elif (a == 'n'):
        winText.config(show = '')
# ===================================================================
# Declare the method that will create the application GUI
def createGUI():
    createLabelEntry()
    showHideButton()
    showHideContent()
    enableDisable()
    boldOnOff()
    passwordOnOff()
# Create a label and an entry widget to prompt for input and
# associate it with a StringVar object
def createLabelEntry():
    global textVar
    global winText
    winLabel = tk.Label(winFrame, text = 'Enter text:', bg = 'yellow',
    font = 'Arial 14 bold', relief = 'ridge', fg = 'red', bd = 8)
    winLabel.grid(column = 0, row = 0)
    # A StringVar object to accept user input from the keyboard
    textVar = tk.StringVar()
    winText = ttk.Entry(winFrame, textvariable = textVar, width = 20)
    winText.grid(column = 1, row = 0)
# Create two button widgets to show/hide the label and entry widgets
def showHideButton():
    winButtonShow = tk.Button(winFrame, font='Arial 14 bold', text = 'Show the\nentry widget', fg='red',\
                              borderwidth=8, height=3, width=20)
    winButtonShow.grid(column = 0, row = 1)
    winButtonShow.bind('<Button-1>',lambda event,
    a = 's': showHideLabelEntry(a))    
    winButtonHide = tk.Button(winFrame, font = 'Arial 14 bold',\
                              text = 'Hide the\nentry widget',\
                              fg = 'red', borderwidth = 8, height = 3, width = 20)
    winButtonHide.grid(column = 1, row = 1)
    winButtonHide.bind('<Button-1>', lambda event, a = 'h': showHideLabelEntry(a))
# Two button widgets to show/hide the contents of the entry widget
def showHideContent():
    winButtonContentShow = tk.Button(winFrame, font = 'Arial 14 bold',\
                                     text = 'Show the contents\nof the entry widget',\
                                     fg = 'blue', borderwidth = 8, height = 3, width = 20)
    winButtonContentShow.grid(column = 0, row = 2)
    winButtonContentShow.bind('<Button-1>', lambda event,\
                                                        a = 's': showHideEntryContent(a))
    winButtonContentHide = tk.Button (winFrame,\
                                      text = 'Hide the contents\nof the entry widget',\
                                      font = 'Arial 14 bold', fg = 'blue', borderwidth = 8,\
                                      height = 3, width = 20)
    winButtonContentHide.grid (column = 1, row = 2)
    winButtonContentHide.bind ('<Button-1>', lambda event,\
                                                         a = 'h': showHideEntryContent(a))
# Button widgets to enable/disable & lock/unlock the entry widget
def enableDisable():
    winButtonEnableEntryWidget = tk.Button(winFrame,\
                                           text = 'Enable the\nentry widget', font = 'Arial 14 bold',\
                                           fg = 'green', borderwidth = 8, height = 3, width = 20)
    winButtonEnableEntryWidget.grid(column = 0, row = 3)
    winButtonEnableEntryWidget.bind('<Button-1>', lambda event,\
                                                              a = 'e': enableLockDisableEntryWidget(a))
    winButtonDisableEntryWidget = tk.Button(winFrame,\
                                            text = 'Lock the\nentry widget', font = 'Arial 14 bold',\
                                            fg = 'green', borderwidth = 8, height = 3, width = 20)
    winButtonDisableEntryWidget.grid(column = 1, row = 3)
    winButtonDisableEntryWidget.bind('<Button-1>', lambda event,\
                                                               a = 'l': enableLockDisableEntryWidget(a))
# Create two button widgets to switch the "bold" property
# of the entry widget content on or off
def boldOnOff():
    winButtonBoldEntryWidget = tk.Button (winFrame,\
                                          text = 'Bold contents of\nthe entry widget',\
                                          font = 'Arial 14 bold',\
                                          fg = 'brown', borderwidth = 8, height = 3, width = 20)
    winButtonBoldEntryWidget.grid (column = 0, row = 4)
    winButtonBoldEntryWidget.bind ('<Button-1>', lambda event,\
                                                             a = 'b': boldContentsOfEntryWidget(a))
    winButtonNoBoldEntryWidget = tk.Button (winFrame,\
                                            text = 'No bold contents of \nthe entry widget',\
                                            font = 'Arial 14 bold', fg = 'brown', borderwidth = 8,\
                                            height = 3, width = 20)
    winButtonNoBoldEntryWidget.grid (column = 1, row = 4)
    winButtonNoBoldEntryWidget.bind ('<Button-1>', lambda event,\
                                                               a = 'n': boldContentsOfEntryWidget(a))
# Button widgets to convert the entry widget text to a password
def passwordOnOff():
    winButtonPasswordEntryWidget = tk.Button(winFrame,\
                                             text ='Show entry widget \ncontent as password', borderwidth=8,
    font = 'Arial 14 bold', fg = 'grey', height = 3, width = 20)
    winButtonPasswordEntryWidget.grid(column = 0, row = 5)
    winButtonPasswordEntryWidget.bind('<Button-1>', lambda event,\
                                                                a = 'p': passwordEntryWidget(a))
    winButtonNormalEntryWidget = tk.Button(winFrame,\
                                           font = 'Arial 14 bold',\
                                           text = 'Show entry widget \ncontent as normal text',\
                                           fg = 'grey', borderwidth = 8, height = 3, width = 20)
    winButtonNormalEntryWidget.grid(column = 1, row = 5)
    winButtonNormalEntryWidget.bind('<Button-1>', lambda event,\
                                                              a = 'n': passwordEntryWidget(a))
# ===================================================================
# Create the frame using the tk object and run the application
winFrame = tk.Tk()
winFrame.title("Wrap up the basic widgets")
createGUI()
winFrame.mainloop()



